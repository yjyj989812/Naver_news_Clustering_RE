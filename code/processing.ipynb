{
 "cells": [
  {
   "cell_type": "code",
   "execution_count": 82,
   "metadata": {},
   "outputs": [],
   "source": [
    "# import packages\n",
    "from num2words import num2words\n",
    "import nltk\n",
    "from nltk.tokenize import word_tokenize\n",
    "from nltk.stem import WordNetLemmatizer\n",
    "import re\n",
    "from sqlalchemy import text\n",
    "import urllib.parse\n",
    "import json\n",
    "import tqdm\n",
    "import pandas as pd\n",
    "from babel.numbers import get_currency_name"
   ]
  },
  {
   "cell_type": "markdown",
   "metadata": {},
   "source": [
    "## DB 연결"
   ]
  },
  {
   "cell_type": "code",
   "execution_count": 64,
   "metadata": {},
   "outputs": [],
   "source": [
    "# db connection\n",
    "with open(\"../conn_db.json\", 'r') as f:\n",
    "    db_conn = json.load(f)\n",
    "db_password = urllib.parse.quote_plus(db_conn['PASS'])\n"
   ]
  },
  {
   "cell_type": "code",
   "execution_count": 65,
   "metadata": {},
   "outputs": [],
   "source": [
    "# MySQL 연결 정보를 기반으로 엔진 생성\n",
    "engine = sqlalchemy.create_engine(f\"mysql://{db_conn['USER']}:{db_password}@{db_conn['HOST']}:{db_conn['PORT']}/{db_conn['DB']}\")"
   ]
  },
  {
   "cell_type": "code",
   "execution_count": 181,
   "metadata": {},
   "outputs": [],
   "source": [
    "# db에서 정보 읽기\n",
    "news_article = pd.read_sql_query(\"select * from english_news_lake\", con=engine)"
   ]
  },
  {
   "cell_type": "markdown",
   "metadata": {},
   "source": [
    "## 데이터 전처리"
   ]
  },
  {
   "cell_type": "code",
   "execution_count": 76,
   "metadata": {},
   "outputs": [
    {
     "data": {
      "text/html": [
       "<div>\n",
       "<style scoped>\n",
       "    .dataframe tbody tr th:only-of-type {\n",
       "        vertical-align: middle;\n",
       "    }\n",
       "\n",
       "    .dataframe tbody tr th {\n",
       "        vertical-align: top;\n",
       "    }\n",
       "\n",
       "    .dataframe thead th {\n",
       "        text-align: right;\n",
       "    }\n",
       "</style>\n",
       "<table border=\"1\" class=\"dataframe\">\n",
       "  <thead>\n",
       "    <tr style=\"text-align: right;\">\n",
       "      <th></th>\n",
       "      <th>dataSource</th>\n",
       "      <th>title</th>\n",
       "      <th>context</th>\n",
       "    </tr>\n",
       "  </thead>\n",
       "  <tbody>\n",
       "    <tr>\n",
       "      <th>0</th>\n",
       "      <td>BBC</td>\n",
       "      <td>Ad sales boost Time Warner profit</td>\n",
       "      <td>Quarterly profits at US media giant TimeWarne...</td>\n",
       "    </tr>\n",
       "    <tr>\n",
       "      <th>1</th>\n",
       "      <td>BBC</td>\n",
       "      <td>Dollar gains on Greenspan speech</td>\n",
       "      <td>The dollar has hit its highest level against ...</td>\n",
       "    </tr>\n",
       "    <tr>\n",
       "      <th>2</th>\n",
       "      <td>BBC</td>\n",
       "      <td>Yukos unit buyer faces loan claim</td>\n",
       "      <td>The owners of embattled Russian oil giant Yuk...</td>\n",
       "    </tr>\n",
       "    <tr>\n",
       "      <th>3</th>\n",
       "      <td>BBC</td>\n",
       "      <td>High fuel prices hit BA's profits</td>\n",
       "      <td>British Airways has blamed high fuel prices f...</td>\n",
       "    </tr>\n",
       "    <tr>\n",
       "      <th>4</th>\n",
       "      <td>BBC</td>\n",
       "      <td>Pernod takeover talk lifts Domecq</td>\n",
       "      <td>Shares in UK drinks and food firm Allied Dome...</td>\n",
       "    </tr>\n",
       "  </tbody>\n",
       "</table>\n",
       "</div>"
      ],
      "text/plain": [
       "  dataSource                              title  \\\n",
       "0        BBC  Ad sales boost Time Warner profit   \n",
       "1        BBC   Dollar gains on Greenspan speech   \n",
       "2        BBC  Yukos unit buyer faces loan claim   \n",
       "3        BBC  High fuel prices hit BA's profits   \n",
       "4        BBC  Pernod takeover talk lifts Domecq   \n",
       "\n",
       "                                             context  \n",
       "0   Quarterly profits at US media giant TimeWarne...  \n",
       "1   The dollar has hit its highest level against ...  \n",
       "2   The owners of embattled Russian oil giant Yuk...  \n",
       "3   British Airways has blamed high fuel prices f...  \n",
       "4   Shares in UK drinks and food firm Allied Dome...  "
      ]
     },
     "execution_count": 76,
     "metadata": {},
     "output_type": "execute_result"
    }
   ],
   "source": [
    "news_article.head(5)"
   ]
  },
  {
   "cell_type": "code",
   "execution_count": 182,
   "metadata": {},
   "outputs": [
    {
     "data": {
      "text/plain": [
       "(59686, 3)"
      ]
     },
     "execution_count": 182,
     "metadata": {},
     "output_type": "execute_result"
    }
   ],
   "source": [
    "news_article.shape"
   ]
  },
  {
   "cell_type": "code",
   "execution_count": 183,
   "metadata": {},
   "outputs": [
    {
     "data": {
      "text/plain": [
       "dataSource      0\n",
       "title           0\n",
       "context       174\n",
       "dtype: int64"
      ]
     },
     "execution_count": 183,
     "metadata": {},
     "output_type": "execute_result"
    }
   ],
   "source": [
    "news_article.isnull().sum()"
   ]
  },
  {
   "cell_type": "code",
   "execution_count": 184,
   "metadata": {},
   "outputs": [],
   "source": [
    "# null값 제거\n",
    "news_article = news_article.dropna()"
   ]
  },
  {
   "cell_type": "code",
   "execution_count": 186,
   "metadata": {},
   "outputs": [
    {
     "data": {
      "text/plain": [
       "(59512, 3)"
      ]
     },
     "execution_count": 186,
     "metadata": {},
     "output_type": "execute_result"
    }
   ],
   "source": [
    "news_article.shape"
   ]
  },
  {
   "cell_type": "code",
   "execution_count": 3,
   "metadata": {},
   "outputs": [
    {
     "name": "stderr",
     "output_type": "stream",
     "text": [
      "[nltk_data] Downloading package punkt to /home/encore/nltk_data...\n",
      "[nltk_data]   Package punkt is already up-to-date!\n",
      "[nltk_data] Downloading package stopwords to /home/encore/nltk_data...\n",
      "[nltk_data]   Package stopwords is already up-to-date!\n",
      "[nltk_data] Downloading package wordnet to /home/encore/nltk_data...\n",
      "[nltk_data]   Package wordnet is already up-to-date!\n"
     ]
    },
    {
     "data": {
      "text/plain": [
       "True"
      ]
     },
     "execution_count": 3,
     "metadata": {},
     "output_type": "execute_result"
    }
   ],
   "source": [
    "# download from nltk\n",
    "nltk.download('punkt')\n",
    "nltk.download('stopwords')\n",
    "nltk.download('wordnet')"
   ]
  },
  {
   "cell_type": "markdown",
   "metadata": {},
   "source": [
    "- 전처리 단계\n",
    "1. 처리 안된 단위계들  \n",
    "1-1. % -> ' percent'  \n",
    "1-2. [숫자][알파뱃] or [알파뱃][숫자] -> [숫자] [알파뱃] or [알파뱃] [숫자]  \n",
    "2. 숫자 처리: num2words 사용 숫자 -> 영어 변환  \n",
    "2-1. [0-9]+,[0-9]+ -> [int] (ex: 24,000 -> 24000 -> [int])  \n",
    "2-2. [0-9]+:[0-9]+ -> [int] [int] (ex: 10:13 -> 10 13 -> [int] [int])  \n",
    "2-3. [0-9]+/[0-9]+ -> [int] [int] (ex: 10/13 -> 10 13 -> [int] [int])  \n",
    "4. tokenizer로 토큰화 (from nltk.stem import WordNetLemmatizer)  \n",
    "5. 's -> is   \n",
    "6. 불용어 제거 (nltk.stopwords)  \n",
    "7. 토큰이 특수기호로만 되여있는 case 제거  > 특수기호 모두 제거\n",
    "ex) '.' '\\'\\'' '\\' \\''  \n",
    "8. token 길이 1~2 이하인 것 제거 (이 case는 corpus 상황보고 결정)  \n",
    "\n",
    "- 추가\n",
    "1. 원화 기호 영어로 수정\n",
    "2. \\n \\t 삭제"
   ]
  },
  {
   "cell_type": "code",
   "execution_count": 187,
   "metadata": {},
   "outputs": [],
   "source": [
    "# data processing \n",
    "class processing:\n",
    "    def __init__(self, text):\n",
    "        self.text = f\"\"\"{text.lower()}\"\"\"\n",
    "        \n",
    "    def replace_percent(self):\n",
    "        self.text= re.sub(r'%', ' percent', self.text)\n",
    "        return self\n",
    "    \n",
    "    def replace_currency_symbols(self):\n",
    "        replacements = {\n",
    "            '$': get_currency_name(' USD', locale='en'),\n",
    "            '£': get_currency_name(' GBP', locale='en'),\n",
    "            '€': get_currency_name(' EUR', locale='en'),\n",
    "            '¥': get_currency_name(' JPY', locale='en'),\n",
    "            '₩': get_currency_name(' KRW', locale='en')\n",
    "        }\n",
    "        for symbol, name in replacements.items():\n",
    "            self.text = self.text.replace(symbol, name)\n",
    "        return self\n",
    "    \n",
    "    def split_unit(self):\n",
    "        def replacer(match):\n",
    "            if match.group(1) and match.group(2):\n",
    "                # number+alph\n",
    "                return f\"{match.group(1)} {match.group(2)}\"\n",
    "            elif match.group(3) and match.group(4):\n",
    "                # alph+number\n",
    "                return f\"{match.group(3)} {match.group(4)}\"\n",
    "            return match.group(0)\n",
    "        \n",
    "    def number_to_word(self):\n",
    "        self.text = re.sub(r'\\d+', lambda x: num2words(int(x.group())), self.text)\n",
    "        return self\n",
    "    \n",
    "    def remove_tab_enter(self):\n",
    "        self.text = re.sub(r'\\t|\\n', ' ', self.text)\n",
    "        return self\n",
    "    \n",
    "    def delete_special(self):\n",
    "        pattern = r'[^a-zA-Z0-9\\s]'\n",
    "        self.text = re.sub(pattern, ' ', self.text) \n",
    "        return self\n",
    "    \n",
    "    def process_all(self):\n",
    "        if '%' in self.text:\n",
    "            self.replace_percent()\n",
    "        elif '$£€¥₩' in self.text:\n",
    "            self.replace_currency_symbols()\n",
    "        elif '\\n' in self.text or '\\t' in self.text:\n",
    "            self.remove_tab_enter()\n",
    "        self.split_unit()\n",
    "        self.number_to_word()\n",
    "        self.delete_special()\n",
    "        return self.text"
   ]
  },
  {
   "cell_type": "code",
   "execution_count": 188,
   "metadata": {},
   "outputs": [],
   "source": [
    "# data processing\n",
    "\n",
    "news_article['processed_title'] = news_article['title'].apply(lambda x: processing(x).process_all() if pd.notnull(x) else x)\n",
    "news_article['processed_context'] = news_article['context'].apply(lambda x: processing(x).process_all() if pd.notnull(x) else x)\n"
   ]
  },
  {
   "cell_type": "code",
   "execution_count": 189,
   "metadata": {},
   "outputs": [
    {
     "data": {
      "text/html": [
       "<div>\n",
       "<style scoped>\n",
       "    .dataframe tbody tr th:only-of-type {\n",
       "        vertical-align: middle;\n",
       "    }\n",
       "\n",
       "    .dataframe tbody tr th {\n",
       "        vertical-align: top;\n",
       "    }\n",
       "\n",
       "    .dataframe thead th {\n",
       "        text-align: right;\n",
       "    }\n",
       "</style>\n",
       "<table border=\"1\" class=\"dataframe\">\n",
       "  <thead>\n",
       "    <tr style=\"text-align: right;\">\n",
       "      <th></th>\n",
       "      <th>dataSource</th>\n",
       "      <th>title</th>\n",
       "      <th>context</th>\n",
       "      <th>processed_title</th>\n",
       "      <th>processed_context</th>\n",
       "    </tr>\n",
       "  </thead>\n",
       "  <tbody>\n",
       "    <tr>\n",
       "      <th>0</th>\n",
       "      <td>BBC</td>\n",
       "      <td>Ad sales boost Time Warner profit</td>\n",
       "      <td>Quarterly profits at US media giant TimeWarne...</td>\n",
       "      <td>ad sales boost time warner profit</td>\n",
       "      <td>quarterly profits at us media giant timewarne...</td>\n",
       "    </tr>\n",
       "    <tr>\n",
       "      <th>1</th>\n",
       "      <td>BBC</td>\n",
       "      <td>Dollar gains on Greenspan speech</td>\n",
       "      <td>The dollar has hit its highest level against ...</td>\n",
       "      <td>dollar gains on greenspan speech</td>\n",
       "      <td>the dollar has hit its highest level against ...</td>\n",
       "    </tr>\n",
       "    <tr>\n",
       "      <th>2</th>\n",
       "      <td>BBC</td>\n",
       "      <td>Yukos unit buyer faces loan claim</td>\n",
       "      <td>The owners of embattled Russian oil giant Yuk...</td>\n",
       "      <td>yukos unit buyer faces loan claim</td>\n",
       "      <td>the owners of embattled russian oil giant yuk...</td>\n",
       "    </tr>\n",
       "    <tr>\n",
       "      <th>3</th>\n",
       "      <td>BBC</td>\n",
       "      <td>High fuel prices hit BA's profits</td>\n",
       "      <td>British Airways has blamed high fuel prices f...</td>\n",
       "      <td>high fuel prices hit ba s profits</td>\n",
       "      <td>british airways has blamed high fuel prices f...</td>\n",
       "    </tr>\n",
       "    <tr>\n",
       "      <th>4</th>\n",
       "      <td>BBC</td>\n",
       "      <td>Pernod takeover talk lifts Domecq</td>\n",
       "      <td>Shares in UK drinks and food firm Allied Dome...</td>\n",
       "      <td>pernod takeover talk lifts domecq</td>\n",
       "      <td>shares in uk drinks and food firm allied dome...</td>\n",
       "    </tr>\n",
       "    <tr>\n",
       "      <th>...</th>\n",
       "      <td>...</td>\n",
       "      <td>...</td>\n",
       "      <td>...</td>\n",
       "      <td>...</td>\n",
       "      <td>...</td>\n",
       "    </tr>\n",
       "    <tr>\n",
       "      <th>59681</th>\n",
       "      <td>spaceNews</td>\n",
       "      <td>Kendall lays out Pentagon thinking on future s...</td>\n",
       "      <td>\\nFrank Kendall, the Pentagon’s top acquisitio...</td>\n",
       "      <td>kendall lays out pentagon thinking on future s...</td>\n",
       "      <td>frank kendall  the pentagon s top acquisition...</td>\n",
       "    </tr>\n",
       "    <tr>\n",
       "      <th>59682</th>\n",
       "      <td>spaceNews</td>\n",
       "      <td>A larger share of NOAA’s declining space budge...</td>\n",
       "      <td>Updated Feb. 10 at 10:18 p.m. Eastern The U.S....</td>\n",
       "      <td>a larger share of noaa s declining space budge...</td>\n",
       "      <td>updated feb  ten at ten eighteen p m  eastern ...</td>\n",
       "    </tr>\n",
       "    <tr>\n",
       "      <th>59683</th>\n",
       "      <td>spaceNews</td>\n",
       "      <td>Think Tank Turns Its Attention To Mars As 2016...</td>\n",
       "      <td>WASHINGTON — As NASA develops a long-term stra...</td>\n",
       "      <td>think tank turns its attention to mars as two ...</td>\n",
       "      <td>washington   as nasa develops a long term stra...</td>\n",
       "    </tr>\n",
       "    <tr>\n",
       "      <th>59684</th>\n",
       "      <td>spaceNews</td>\n",
       "      <td>House Bill Leaves Last Three JPSS Satellites i...</td>\n",
       "      <td>WASHINGTON — A spending bill the House passed ...</td>\n",
       "      <td>house bill leaves last three jpss satellites i...</td>\n",
       "      <td>washington   a spending bill the house passed ...</td>\n",
       "    </tr>\n",
       "    <tr>\n",
       "      <th>59685</th>\n",
       "      <td>spaceNews</td>\n",
       "      <td>Championing a Climate Change for Commercial We...</td>\n",
       "      <td>U.S. Rep. Jim Bridenstine (R-Okla.) is a growi...</td>\n",
       "      <td>championing a climate change for commercial we...</td>\n",
       "      <td>u s  rep  jim bridenstine  r okla   is a growi...</td>\n",
       "    </tr>\n",
       "  </tbody>\n",
       "</table>\n",
       "<p>59512 rows × 5 columns</p>\n",
       "</div>"
      ],
      "text/plain": [
       "      dataSource                                              title  \\\n",
       "0            BBC                  Ad sales boost Time Warner profit   \n",
       "1            BBC                   Dollar gains on Greenspan speech   \n",
       "2            BBC                  Yukos unit buyer faces loan claim   \n",
       "3            BBC                  High fuel prices hit BA's profits   \n",
       "4            BBC                  Pernod takeover talk lifts Domecq   \n",
       "...          ...                                                ...   \n",
       "59681  spaceNews  Kendall lays out Pentagon thinking on future s...   \n",
       "59682  spaceNews  A larger share of NOAA’s declining space budge...   \n",
       "59683  spaceNews  Think Tank Turns Its Attention To Mars As 2016...   \n",
       "59684  spaceNews  House Bill Leaves Last Three JPSS Satellites i...   \n",
       "59685  spaceNews  Championing a Climate Change for Commercial We...   \n",
       "\n",
       "                                                 context  \\\n",
       "0       Quarterly profits at US media giant TimeWarne...   \n",
       "1       The dollar has hit its highest level against ...   \n",
       "2       The owners of embattled Russian oil giant Yuk...   \n",
       "3       British Airways has blamed high fuel prices f...   \n",
       "4       Shares in UK drinks and food firm Allied Dome...   \n",
       "...                                                  ...   \n",
       "59681  \\nFrank Kendall, the Pentagon’s top acquisitio...   \n",
       "59682  Updated Feb. 10 at 10:18 p.m. Eastern The U.S....   \n",
       "59683  WASHINGTON — As NASA develops a long-term stra...   \n",
       "59684  WASHINGTON — A spending bill the House passed ...   \n",
       "59685  U.S. Rep. Jim Bridenstine (R-Okla.) is a growi...   \n",
       "\n",
       "                                         processed_title  \\\n",
       "0                      ad sales boost time warner profit   \n",
       "1                       dollar gains on greenspan speech   \n",
       "2                      yukos unit buyer faces loan claim   \n",
       "3                      high fuel prices hit ba s profits   \n",
       "4                      pernod takeover talk lifts domecq   \n",
       "...                                                  ...   \n",
       "59681  kendall lays out pentagon thinking on future s...   \n",
       "59682  a larger share of noaa s declining space budge...   \n",
       "59683  think tank turns its attention to mars as two ...   \n",
       "59684  house bill leaves last three jpss satellites i...   \n",
       "59685  championing a climate change for commercial we...   \n",
       "\n",
       "                                       processed_context  \n",
       "0       quarterly profits at us media giant timewarne...  \n",
       "1       the dollar has hit its highest level against ...  \n",
       "2       the owners of embattled russian oil giant yuk...  \n",
       "3       british airways has blamed high fuel prices f...  \n",
       "4       shares in uk drinks and food firm allied dome...  \n",
       "...                                                  ...  \n",
       "59681   frank kendall  the pentagon s top acquisition...  \n",
       "59682  updated feb  ten at ten eighteen p m  eastern ...  \n",
       "59683  washington   as nasa develops a long term stra...  \n",
       "59684  washington   a spending bill the house passed ...  \n",
       "59685  u s  rep  jim bridenstine  r okla   is a growi...  \n",
       "\n",
       "[59512 rows x 5 columns]"
      ]
     },
     "execution_count": 189,
     "metadata": {},
     "output_type": "execute_result"
    }
   ],
   "source": [
    "news_article"
   ]
  },
  {
   "cell_type": "markdown",
   "metadata": {},
   "source": [
    "## 토큰화 및 불용어 처리"
   ]
  },
  {
   "cell_type": "code",
   "execution_count": 190,
   "metadata": {},
   "outputs": [],
   "source": [
    "# tokenization\n",
    "title_token = news_article['processed_title'].apply(word_tokenize)\n",
    "context_token = news_article['processed_context'].apply(word_tokenize)\n",
    "\n",
    "#for index, raws in news_article.iterrows():\n",
    "#    tokens = word_tokenize(raws['processed_title'])"
   ]
  },
  {
   "cell_type": "code",
   "execution_count": 191,
   "metadata": {},
   "outputs": [
    {
     "data": {
      "text/plain": [
       "0                 [ad, sales, boost, time, warner, profit]\n",
       "1                   [dollar, gains, on, greenspan, speech]\n",
       "2                 [yukos, unit, buyer, faces, loan, claim]\n",
       "3                [high, fuel, prices, hit, ba, s, profits]\n",
       "4                  [pernod, takeover, talk, lifts, domecq]\n",
       "                               ...                        \n",
       "59681    [kendall, lays, out, pentagon, thinking, on, f...\n",
       "59682    [a, larger, share, of, noaa, s, declining, spa...\n",
       "59683    [think, tank, turns, its, attention, to, mars,...\n",
       "59684    [house, bill, leaves, last, three, jpss, satel...\n",
       "59685    [championing, a, climate, change, for, commerc...\n",
       "Name: processed_title, Length: 59512, dtype: object"
      ]
     },
     "execution_count": 191,
     "metadata": {},
     "output_type": "execute_result"
    }
   ],
   "source": [
    "title_token"
   ]
  },
  {
   "cell_type": "code",
   "execution_count": null,
   "metadata": {},
   "outputs": [],
   "source": [
    "context_token"
   ]
  },
  {
   "cell_type": "code",
   "execution_count": 41,
   "metadata": {},
   "outputs": [],
   "source": [
    "# init stop word\n",
    "stop_words = set(nltk.corpus.stopwords.words(\"english\"))"
   ]
  },
  {
   "cell_type": "code",
   "execution_count": 42,
   "metadata": {},
   "outputs": [],
   "source": [
    "# execpt stop word\n",
    "tokensWSW = [word for word in tokens if word not in stop_words]"
   ]
  },
  {
   "cell_type": "code",
   "execution_count": null,
   "metadata": {},
   "outputs": [],
   "source": [
    "tokensWSW"
   ]
  },
  {
   "cell_type": "code",
   "execution_count": 44,
   "metadata": {},
   "outputs": [],
   "source": [
    "# convert words to base form \n",
    "wordnet_lemmatizer = WordNetLemmatizer()\n",
    "lemmatized_list = []\n",
    "for word in tokensWSW:\n",
    "    lemmatized_list.append(wordnet_lemmatizer.lemmatize(word))"
   ]
  },
  {
   "cell_type": "code",
   "execution_count": null,
   "metadata": {},
   "outputs": [],
   "source": [
    "lemmatized_list"
   ]
  },
  {
   "cell_type": "code",
   "execution_count": null,
   "metadata": {},
   "outputs": [],
   "source": []
  }
 ],
 "metadata": {
  "kernelspec": {
   "display_name": "base",
   "language": "python",
   "name": "python3"
  },
  "language_info": {
   "codemirror_mode": {
    "name": "ipython",
    "version": 3
   },
   "file_extension": ".py",
   "mimetype": "text/x-python",
   "name": "python",
   "nbconvert_exporter": "python",
   "pygments_lexer": "ipython3",
   "version": "3.10.13"
  }
 },
 "nbformat": 4,
 "nbformat_minor": 2
}
